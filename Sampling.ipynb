{
 "metadata": {
  "name": "",
  "signature": "sha256:1b0157abf180eb59ba304f04dcedb3ec8a6746f9efdf48ee01e3cf565d86e4b2"
 },
 "nbformat": 3,
 "nbformat_minor": 0,
 "worksheets": [
  {
   "cells": [
    {
     "cell_type": "code",
     "collapsed": false,
     "input": [
      "# Code and example from http://isaacslavitt.com/2015/12/19/german-tank-problem-with-pymc-and-pystan/\n",
      "# Suppose four tanks are captured with the serial numbers 10, 256, 202, and 97. Assuming that each tank is numbered in sequence as they are built, how many tanks are there in total?"
     ],
     "language": "python",
     "metadata": {},
     "outputs": [],
     "prompt_number": 8
    },
    {
     "cell_type": "code",
     "collapsed": false,
     "input": [
      "import pystan\n",
      "import numpy as np\n",
      "import warnings   # to hide the Anaconda warning on pickling stan objects\n",
      "warnings.filterwarnings('ignore')\n",
      "\n",
      "# D: the data\n",
      "y = np.array([10, 256, 202, 97])\n",
      "\n",
      "ocode = \"\"\"\n",
      "data {\n",
      "    int<lower=1> M;  // number of serial numbers observed\n",
      "    real y[M];       // serial numbers\n",
      "}\n",
      "parameters {\n",
      "    real<lower=max(y)> N;\n",
      "}\n",
      "model {\n",
      "    N ~ uniform(max(y), 10000);  // P(N)\n",
      "    y ~ uniform(0, N);           // P(D|N)\n",
      "}\n",
      "\"\"\"\n",
      "\n",
      "data = {'y': y, 'M': len(y)}\n",
      "fit = pystan.stan(model_code=ocode, data=data, init='init_r', iter=1000, warmup=200, chains=2)\n",
      "print fit"
     ],
     "language": "python",
     "metadata": {},
     "outputs": [
      {
       "output_type": "stream",
       "stream": "stdout",
       "text": [
        "Inference for Stan model: anon_model_9faa1036eb89006b1e394cb29b5ab595.\n",
        "2 chains, each with iter=1000; warmup=200; thin=1; \n",
        "post-warmup draws per chain=800, total post-warmup draws=1600.\n",
        "\n",
        "       mean se_mean     sd   2.5%    25%    50%    75%  97.5%  n_eff   Rhat\n",
        "N    388.11    5.21 208.47 258.58 281.84 325.34 417.75 893.89 1600.0    1.0\n",
        "lp__ -19.45    0.02   0.76 -21.53 -19.67 -19.16 -18.95 -18.89 1600.0    1.0\n",
        "\n",
        "Samples were drawn using NUTS(diag_e) at Tue Nov  1 17:35:41 2016.\n",
        "For each parameter, n_eff is a crude measure of effective sample size,\n",
        "and Rhat is the potential scale reduction factor on split chains (at \n",
        "convergence, Rhat=1).\n"
       ]
      }
     ],
     "prompt_number": 9
    },
    {
     "cell_type": "code",
     "collapsed": false,
     "input": [
      "# Rhat is good!\n",
      "# Estimated N: mean ~388, median ~325\n",
      "# To read more: https://www.theguardian.com/world/2006/jul/20/secondworldwar.tvandradio\n",
      "# Note that estimates for N for this problem on the net are usually given in terms of how many tanks were produced PER MONTH"
     ],
     "language": "python",
     "metadata": {},
     "outputs": []
    }
   ],
   "metadata": {}
  }
 ]
}