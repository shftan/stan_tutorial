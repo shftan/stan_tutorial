{
 "metadata": {
  "name": "",
  "signature": "sha256:ebdba42d32d5400a5291e799c00bc6f71343c5bd281c53ef3875b2740f0e9892"
 },
 "nbformat": 3,
 "nbformat_minor": 0,
 "worksheets": [
  {
   "cells": [
    {
     "cell_type": "code",
     "collapsed": false,
     "input": [
      "# From http://isaacslavitt.com/2015/12/19/german-tank-problem-with-pymc-and-pystan/\n",
      "# Suppose four tanks are captured with the serial numbers 10, 256, 202, and 97. Assuming that each tank is numbered in sequence as they are built, how many tanks are there in total?"
     ],
     "language": "python",
     "metadata": {},
     "outputs": []
    },
    {
     "cell_type": "code",
     "collapsed": false,
     "input": [
      "import pystan\n",
      "import numpy as np\n",
      "\n",
      "# D: the data\n",
      "y = np.array([10, 256, 202, 97])\n",
      "\n",
      "ocode = \"\"\"\n",
      "data {\n",
      "    int<lower=1> M;  // number of serial numbers observed\n",
      "    real y[M];       // serial numbers\n",
      "}\n",
      "parameters {\n",
      "    real<lower=max(y)> N;\n",
      "}\n",
      "model {\n",
      "    N ~ uniform(max(y), 10000);  // P(N)\n",
      "    y ~ uniform(0, N);           // P(D|N)\n",
      "}\n",
      "\"\"\"\n",
      "\n",
      "data = {'y': y, 'M': len(y)}\n",
      "fit = pystan.stan(model_code=ocode, data=data, init='init_r', iter=1000, warmup=200, chains=2)\n",
      "fit"
     ],
     "language": "python",
     "metadata": {},
     "outputs": [
      {
       "output_type": "stream",
       "stream": "stderr",
       "text": [
        "//anaconda/lib/python2.7/multiprocessing/queues.py:392: UserWarning: Pickling fit objects is an experimental feature!\n",
        "The relevant StanModel instance must be pickled along with this fit object.\n",
        "When unpickling the StanModel must be unpickled first.\n",
        "  return send(obj)\n",
        "//anaconda/lib/python2.7/multiprocessing/queues.py:392: UserWarning: Pickling fit objects is an experimental feature!\n",
        "The relevant StanModel instance must be pickled along with this fit object.\n",
        "When unpickling the StanModel must be unpickled first.\n",
        "  return send(obj)\n"
       ]
      },
      {
       "metadata": {},
       "output_type": "pyout",
       "prompt_number": 4,
       "text": [
        "Inference for Stan model: anon_model_9faa1036eb89006b1e394cb29b5ab595.\n",
        "2 chains, each with iter=1000; warmup=200; thin=1; \n",
        "post-warmup draws per chain=800, total post-warmup draws=1600.\n",
        "\n",
        "       mean se_mean     sd   2.5%    25%    50%    75%  97.5%  n_eff   Rhat\n",
        "N     363.9    4.13 165.09 258.79 275.55 313.81 378.97 788.58 1600.0    1.0\n",
        "lp__ -19.47    0.02   0.75 -21.38 -19.72 -19.18 -18.94 -18.89 1600.0   1.02\n",
        "\n",
        "Samples were drawn using NUTS(diag_e) at Tue Nov  1 15:34:58 2016.\n",
        "For each parameter, n_eff is a crude measure of effective sample size,\n",
        "and Rhat is the potential scale reduction factor on split chains (at \n",
        "convergence, Rhat=1)."
       ]
      }
     ],
     "prompt_number": 4
    },
    {
     "cell_type": "code",
     "collapsed": false,
     "input": [],
     "language": "python",
     "metadata": {},
     "outputs": []
    }
   ],
   "metadata": {}
  }
 ]
}