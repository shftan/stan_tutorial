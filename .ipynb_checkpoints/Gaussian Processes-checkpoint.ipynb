{
 "metadata": {
  "name": "",
  "signature": "sha256:34b132a0b5ab068d333065f7a1e0410222569238e0f5544ac02d7d287823fb32"
 },
 "nbformat": 3,
 "nbformat_minor": 0,
 "worksheets": [
  {
   "cells": [
    {
     "cell_type": "code",
     "collapsed": false,
     "input": [
      "# From https://gist.github.com/fonnesbeck/3919968669ecd852f87f"
     ],
     "language": "python",
     "metadata": {},
     "outputs": [],
     "prompt_number": 1
    },
    {
     "cell_type": "code",
     "collapsed": false,
     "input": [
      "%matplotlib inline\n",
      "import numpy as np\n",
      "import matplotlib.pyplot as plt\n",
      "import pystan\n",
      "import seaborn as sns\n",
      "sns.set()"
     ],
     "language": "python",
     "metadata": {},
     "outputs": [],
     "prompt_number": 5
    },
    {
     "cell_type": "code",
     "collapsed": false,
     "input": [
      "x = np.array([-5, -4.9, -4.8, -4.7, -4.6, -4.5, -4.4, -4.3, -4.2, -4.1, -4, \n",
      "-3.9, -3.8, -3.7, -3.6, -3.5, -3.4, -3.3, -3.2, -3.1, -3, -2.9, \n",
      "-2.8, -2.7, -2.6, -2.5, -2.4, -2.3, -2.2, -2.1, -2, -1.9, -1.8, \n",
      "-1.7, -1.6, -1.5, -1.4, -1.3, -1.2, -1.1, -1, -0.9, -0.8, -0.7, \n",
      "-0.6, -0.5, -0.4, -0.3, -0.2, -0.1, 0, 0.1, 0.2, 0.3, 0.4, 0.5, \n",
      "0.6, 0.7, 0.8, 0.9, 1, 1.1, 1.2, 1.3, 1.4, 1.5, 1.6, 1.7, 1.8, \n",
      "1.9, 2, 2.1, 2.2, 2.3, 2.4, 2.5, 2.6, 2.7, 2.8, 2.9, 3, 3.1, \n",
      "3.2, 3.3, 3.4, 3.5, 3.6, 3.7, 3.8, 3.9, 4, 4.1, 4.2, 4.3, 4.4, \n",
      "4.5, 4.6, 4.7, 4.8, 4.9, 5])\n",
      "\n",
      "y = np.array([1.04442478194401, 0.948306088493654, 0.357037759697332, 0.492336514646604, \n",
      "0.520651364364746, 0.112629866592809, 0.470995468454158, -0.168442254267804, \n",
      "0.0720344402575861, -0.188108980535916, -0.0160163306512027, \n",
      "-0.0388792158617705, -0.0600673630622568, 0.113568725264636, \n",
      "0.447160403837629, 0.664421188556779, -0.139510743820276, 0.458823971660986, \n",
      "0.141214654640904, -0.286957663528091, -0.466537724021695, -0.308185884317105, \n",
      "-1.57664872694079, -1.44463024170082, -1.51206214603847, -1.49393593601901, \n",
      "-2.02292464164487, -1.57047488853653, -1.22973445533419, -1.51502367058357, \n",
      "-1.41493587255224, -1.10140254663611, -0.591866485375275, -1.08781838696462, \n",
      "-0.800375653733931, -1.00764767602679, -0.0471028950122742, -0.536820626879737, \n",
      "-0.151688056391446, -0.176771681318393, -0.240094952335518, -1.16827876746502, \n",
      "-0.493597351974992, -0.831683011472805, -0.152347043914137, 0.0190364158178343, \n",
      "-1.09355955218051, -0.328157917911376, -0.585575679802941, -0.472837120425201, \n",
      "-0.503633622750049, -0.0124446353828312, -0.465529814250314, \n",
      "-0.101621725887347, -0.26988462590405, 0.398726664193302, 0.113805181040188, \n",
      "0.331353802465398, 0.383592361618461, 0.431647298655434, 0.580036473774238, \n",
      "0.830404669466897, 1.17919105883462, 0.871037583886711, 1.12290553424174, \n",
      "0.752564860804382, 0.76897960270623, 1.14738839410786, 0.773151715269892, \n",
      "0.700611498974798, 0.0412951045437818, 0.303526087747629, -0.139399513324585, \n",
      "-0.862987735433697, -1.23399179134008, -1.58924289116396, -1.35105117911049, \n",
      "-0.990144529089174, -1.91175364127672, -1.31836236129543, -1.65955735224704, \n",
      "-1.83516148300526, -2.03817062501248, -1.66764011409214, -0.552154350554687, \n",
      "-0.547807883952654, -0.905389222477036, -0.737156477425302, -0.40211249920415, \n",
      "0.129669958952991, 0.271142753510592, 0.176311762529962, 0.283580281859344, \n",
      "0.635808289696458, 1.69976647982837, 1.10748978734239, 0.365412229181044, \n",
      "0.788821368082444, 0.879731888124867, 1.02180766619069, 0.551526067300283])\n",
      "\n",
      "N = len(y)\n"
     ],
     "language": "python",
     "metadata": {},
     "outputs": [],
     "prompt_number": 3
    },
    {
     "cell_type": "code",
     "collapsed": false,
     "input": [
      "gp_code = \"\"\"\n",
      "// Fit a Gaussian process's hyperparameters\n",
      "// for squared exponential prior\n",
      "\n",
      "data {\n",
      "  int<lower=1> N;\n",
      "  vector[N] x;\n",
      "  vector[N] y;\n",
      "}\n",
      "transformed data {\n",
      "  vector[N] mu;\n",
      "  for (i in 1:N) \n",
      "    mu[i] <- 0;\n",
      "}\n",
      "parameters {\n",
      "  real<lower=0> eta_sq;\n",
      "  real<lower=0> rho_sq;\n",
      "  real<lower=0> sigma_sq;\n",
      "}\n",
      "model {\n",
      "  matrix[N,N] Sigma;\n",
      "\n",
      "  // off-diagonal elements\n",
      "  for (i in 1:(N-1)) {\n",
      "    for (j in (i+1):N) {\n",
      "      Sigma[i,j] <- eta_sq * exp(-rho_sq * pow(x[i] - x[j],2));\n",
      "      Sigma[j,i] <- Sigma[i,j];\n",
      "    }\n",
      "  }\n",
      "\n",
      "  // diagonal elements\n",
      "  for (k in 1:N)\n",
      "    Sigma[k,k] <- eta_sq + sigma_sq; // + jitter\n",
      "\n",
      "  eta_sq ~ cauchy(0,5);\n",
      "  rho_sq ~ cauchy(0,5);\n",
      "  sigma_sq ~ cauchy(0,5);\n",
      "\n",
      "  y ~ multi_normal(mu,Sigma);\n",
      "}\n",
      "\"\"\""
     ],
     "language": "python",
     "metadata": {},
     "outputs": [],
     "prompt_number": 4
    },
    {
     "cell_type": "code",
     "collapsed": false,
     "input": [
      "gp_data = {'N': N, 'y': y, 'x': x}\n",
      "\n",
      "fit = pystan.stan(model_code=gp_code, data=gp_data,\n",
      "                  iter=100, chains=2)"
     ],
     "language": "python",
     "metadata": {},
     "outputs": [
      {
       "output_type": "stream",
       "stream": "stderr",
       "text": [
        "//anaconda/lib/python2.7/multiprocessing/queues.py:392: UserWarning: Pickling fit objects is an experimental feature!\n",
        "The relevant StanModel instance must be pickled along with this fit object.\n",
        "When unpickling the StanModel must be unpickled first.\n",
        "  return send(obj)\n",
        "//anaconda/lib/python2.7/multiprocessing/queues.py:392: UserWarning: Pickling fit objects is an experimental feature!\n",
        "The relevant StanModel instance must be pickled along with this fit object.\n",
        "When unpickling the StanModel must be unpickled first.\n",
        "  return send(obj)\n"
       ]
      }
     ],
     "prompt_number": 7
    },
    {
     "cell_type": "code",
     "collapsed": false,
     "input": [
      "fit.plot();"
     ],
     "language": "python",
     "metadata": {},
     "outputs": []
    },
    {
     "cell_type": "code",
     "collapsed": false,
     "input": [
      "# See https://gist.github.com/fonnesbeck/3919968669ecd852f87f for more"
     ],
     "language": "python",
     "metadata": {},
     "outputs": []
    }
   ],
   "metadata": {}
  }
 ]
}