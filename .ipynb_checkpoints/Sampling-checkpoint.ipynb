{
 "metadata": {
  "name": "",
  "signature": "sha256:f4dd00b5fed6df16e06c3939ac141570e84b3a06834dc844b4ce803a91e34cc8"
 },
 "nbformat": 3,
 "nbformat_minor": 0,
 "worksheets": []
}