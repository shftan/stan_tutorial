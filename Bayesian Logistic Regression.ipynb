{
 "metadata": {
  "name": "",
  "signature": "sha256:1a47016c0afdbf413f5b130716b25a7da95581e8845d57cf069916467e061bb2"
 },
 "nbformat": 3,
 "nbformat_minor": 0,
 "worksheets": [
  {
   "cells": [
    {
     "cell_type": "code",
     "collapsed": false,
     "input": [
      "import pystan   \n",
      "import pandas as pd\n",
      "import statsmodels.api as sm   # for logistic regression\n",
      "import warnings   # to hide the Anaconda warning on pickling stan objects\n",
      "warnings.filterwarnings('ignore')"
     ],
     "language": "python",
     "metadata": {},
     "outputs": [],
     "prompt_number": 1
    },
    {
     "cell_type": "code",
     "collapsed": false,
     "input": [
      "# Read data\n",
      "df = pd.read_csv(\"http://www.ats.ucla.edu/stat/data/binary.csv\")\n",
      "df.head()"
     ],
     "language": "python",
     "metadata": {},
     "outputs": [
      {
       "html": [
        "<div style=\"max-height:1000px;max-width:1500px;overflow:auto;\">\n",
        "<table border=\"1\" class=\"dataframe\">\n",
        "  <thead>\n",
        "    <tr style=\"text-align: right;\">\n",
        "      <th></th>\n",
        "      <th>admit</th>\n",
        "      <th>gre</th>\n",
        "      <th>gpa</th>\n",
        "      <th>rank</th>\n",
        "    </tr>\n",
        "  </thead>\n",
        "  <tbody>\n",
        "    <tr>\n",
        "      <th>0</th>\n",
        "      <td> 0</td>\n",
        "      <td> 380</td>\n",
        "      <td> 3.61</td>\n",
        "      <td> 3</td>\n",
        "    </tr>\n",
        "    <tr>\n",
        "      <th>1</th>\n",
        "      <td> 1</td>\n",
        "      <td> 660</td>\n",
        "      <td> 3.67</td>\n",
        "      <td> 3</td>\n",
        "    </tr>\n",
        "    <tr>\n",
        "      <th>2</th>\n",
        "      <td> 1</td>\n",
        "      <td> 800</td>\n",
        "      <td> 4.00</td>\n",
        "      <td> 1</td>\n",
        "    </tr>\n",
        "    <tr>\n",
        "      <th>3</th>\n",
        "      <td> 1</td>\n",
        "      <td> 640</td>\n",
        "      <td> 3.19</td>\n",
        "      <td> 4</td>\n",
        "    </tr>\n",
        "    <tr>\n",
        "      <th>4</th>\n",
        "      <td> 0</td>\n",
        "      <td> 520</td>\n",
        "      <td> 2.93</td>\n",
        "      <td> 4</td>\n",
        "    </tr>\n",
        "  </tbody>\n",
        "</table>\n",
        "</div>"
       ],
       "metadata": {},
       "output_type": "pyout",
       "prompt_number": 2,
       "text": [
        "   admit  gre   gpa  rank\n",
        "0      0  380  3.61     3\n",
        "1      1  660  3.67     3\n",
        "2      1  800  4.00     1\n",
        "3      1  640  3.19     4\n",
        "4      0  520  2.93     4"
       ]
      }
     ],
     "prompt_number": 2
    },
    {
     "cell_type": "code",
     "collapsed": false,
     "input": [
      "y = df['admit']\n",
      "del df['admit']"
     ],
     "language": "python",
     "metadata": {},
     "outputs": [],
     "prompt_number": 3
    },
    {
     "cell_type": "code",
     "collapsed": false,
     "input": [
      "######****** Bayesian logistic regression ******######\n",
      "# Formulate data for Stan\n",
      "stan_data = { 'N': len(df),\n",
      "            'P': len(df.columns), \n",
      "            'y': y,\n",
      "            'x': df,\n",
      "            }"
     ],
     "language": "python",
     "metadata": {},
     "outputs": [],
     "prompt_number": 4
    },
    {
     "cell_type": "code",
     "collapsed": false,
     "input": [
      "# Stan model code\n",
      "logistic_regression = \"\"\"\n",
      "data {\n",
      "  int<lower=0> N; # number of data points\n",
      "  int<lower=0> P; # number of predictors (not including intercept)\n",
      "  int<lower=0,upper=1> y[N]; # binary outcome\n",
      "  matrix[N,P] x; # predictors (not including intercept)\n",
      "}\n",
      "parameters {\n",
      "  real beta0;\n",
      "  vector[P] beta;\n",
      "}\n",
      "model {\n",
      "  beta0 ~ normal(0,10);\n",
      "  beta ~ normal(0,10);\n",
      "  y ~ bernoulli_logit(beta0 + x * beta);\n",
      "}\n",
      "\"\"\""
     ],
     "language": "python",
     "metadata": {},
     "outputs": [],
     "prompt_number": 5
    },
    {
     "cell_type": "code",
     "collapsed": false,
     "input": [
      "# Fit Stan model\n",
      "fit = pystan.stan(model_code=logistic_regression, data=stan_data, iter=500, warmup=100, chains=2)\n",
      "print fit"
     ],
     "language": "python",
     "metadata": {},
     "outputs": [
      {
       "output_type": "stream",
       "stream": "stdout",
       "text": [
        "Inference for Stan model: anon_model_8fc3f958ce17ddb43154a2b3214e456c.\n",
        "2 chains, each with iter=500; warmup=100; thin=1; \n",
        "post-warmup draws per chain=400, total post-warmup draws=800.\n",
        "\n",
        "          mean se_mean     sd   2.5%    25%    50%    75%  97.5%  n_eff   Rhat\n",
        "beta0    -3.49    0.04   1.03  -5.38  -4.17  -3.61  -2.87  -1.21  800.0   1.19\n",
        "beta[0] 2.3e-3  3.9e-5 1.1e-3 7.6e-5 1.6e-3 2.3e-3 3.0e-3 4.5e-3  800.0    1.0\n",
        "beta[1]   0.79    0.01   0.31   0.17   0.58    0.8    1.0   1.36  800.0   1.14\n",
        "beta[2]  -0.57  4.2e-3   0.12  -0.79  -0.65  -0.58   -0.5  -0.32  800.0    1.0\n",
        "lp__    -231.7    0.05   1.35 -235.2 -232.4 -231.4 -230.7 -229.9  800.0   1.01\n",
        "\n",
        "Samples were drawn using NUTS(diag_e) at Wed Nov  2 00:11:00 2016.\n",
        "For each parameter, n_eff is a crude measure of effective sample size,\n",
        "and Rhat is the potential scale reduction factor on split chains (at \n",
        "convergence, Rhat=1).\n"
       ]
      }
     ],
     "prompt_number": 6
    },
    {
     "cell_type": "code",
     "collapsed": false,
     "input": [
      "# Extract posterior distribution, and plot iterations\n",
      "beta0 = fit.extract(permuted=True)['beta0']\n",
      "fit.plot()\n",
      "plt.show()"
     ],
     "language": "python",
     "metadata": {},
     "outputs": [
      {
       "metadata": {},
       "output_type": "display_data",
       "png": "[encoded data removed]",
       "text": [
        "<matplotlib.figure.Figure at 0x118555c90>"
       ]
      }
     ],
     "prompt_number": 7
    },
    {
     "cell_type": "code",
     "collapsed": false,
     "input": [
      "#####****** Frequentist logistic regression ******######\n",
      "logit = sm.Logit(y,sm.tools.tools.add_constant(df))   # add indicator column for intercept term\n",
      "result = logit.fit()\n",
      "print result.summary()"
     ],
     "language": "python",
     "metadata": {},
     "outputs": [
      {
       "output_type": "stream",
       "stream": "stdout",
       "text": [
        "Optimization terminated successfully.\n",
        "         Current function value: 0.574302\n",
        "         Iterations 6\n",
        "                           Logit Regression Results                           \n",
        "==============================================================================\n",
        "Dep. Variable:                  admit   No. Observations:                  400\n",
        "Model:                          Logit   Df Residuals:                      396\n",
        "Method:                           MLE   Df Model:                            3\n",
        "Date:                Wed, 02 Nov 2016   Pseudo R-squ.:                 0.08107\n",
        "Time:                        00:11:02   Log-Likelihood:                -229.72\n",
        "converged:                       True   LL-Null:                       -249.99\n",
        "                                        LLR p-value:                 8.207e-09\n",
        "==============================================================================\n",
        "                 coef    std err          z      P>|z|      [95.0% Conf. Int.]\n",
        "------------------------------------------------------------------------------\n",
        "const         -3.4495      1.133     -3.045      0.002        -5.670    -1.229\n",
        "gre            0.0023      0.001      2.101      0.036         0.000     0.004\n",
        "gpa            0.7770      0.327      2.373      0.018         0.135     1.419\n",
        "rank          -0.5600      0.127     -4.405      0.000        -0.809    -0.311\n",
        "==============================================================================\n"
       ]
      }
     ],
     "prompt_number": 8
    },
    {
     "cell_type": "code",
     "collapsed": false,
     "input": [
      "print fit\n",
      "# beta[0]: gre\n",
      "# beta[1]: gpa\n",
      "# beta[2]: rank"
     ],
     "language": "python",
     "metadata": {},
     "outputs": [
      {
       "output_type": "stream",
       "stream": "stdout",
       "text": [
        "Inference for Stan model: anon_model_8fc3f958ce17ddb43154a2b3214e456c.\n",
        "2 chains, each with iter=500; warmup=100; thin=1; \n",
        "post-warmup draws per chain=400, total post-warmup draws=800.\n",
        "\n",
        "          mean se_mean     sd   2.5%    25%    50%    75%  97.5%  n_eff   Rhat\n",
        "beta0    -3.49    0.04   1.03  -5.38  -4.17  -3.61  -2.87  -1.21  800.0   1.19\n",
        "beta[0] 2.3e-3  3.9e-5 1.1e-3 7.6e-5 1.6e-3 2.3e-3 3.0e-3 4.5e-3  800.0    1.0\n",
        "beta[1]   0.79    0.01   0.31   0.17   0.58    0.8    1.0   1.36  800.0   1.14\n",
        "beta[2]  -0.57  4.2e-3   0.12  -0.79  -0.65  -0.58   -0.5  -0.32  800.0    1.0\n",
        "lp__    -231.7    0.05   1.35 -235.2 -232.4 -231.4 -230.7 -229.9  800.0   1.01\n",
        "\n",
        "Samples were drawn using NUTS(diag_e) at Wed Nov  2 00:11:00 2016.\n",
        "For each parameter, n_eff is a crude measure of effective sample size,\n",
        "and Rhat is the potential scale reduction factor on split chains (at \n",
        "convergence, Rhat=1).\n"
       ]
      }
     ],
     "prompt_number": 9
    },
    {
     "cell_type": "code",
     "collapsed": false,
     "input": [
      "# How do the estimated coefficients, and their standard errors, compare across the two methods?"
     ],
     "language": "python",
     "metadata": {},
     "outputs": []
    }
   ],
   "metadata": {}
  }
 ]
}