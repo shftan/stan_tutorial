{
 "metadata": {
  "name": "",
  "signature": "sha256:408d3bd216b9bb6a6eed0deab7555a1f02e83f6006faf5858127622fc4c81818"
 },
 "nbformat": 3,
 "nbformat_minor": 0,
 "worksheets": [
  {
   "cells": [
    {
     "cell_type": "code",
     "collapsed": false,
     "input": [
      "import pystan\n",
      "import scipy.stats as stats\n",
      "import pandas as pd"
     ],
     "language": "python",
     "metadata": {},
     "outputs": [],
     "prompt_number": 5
    },
    {
     "cell_type": "code",
     "collapsed": false,
     "input": [
      "### Bayesian logistic regression\n",
      "\n",
      "# Read data\n",
      "df = pd.read_csv('lalonde.csv')\n",
      "df.head()"
     ],
     "language": "python",
     "metadata": {},
     "outputs": [
      {
       "html": [
        "<div style=\"max-height:1000px;max-width:1500px;overflow:auto;\">\n",
        "<table border=\"1\" class=\"dataframe\">\n",
        "  <thead>\n",
        "    <tr style=\"text-align: right;\">\n",
        "      <th></th>\n",
        "      <th>age</th>\n",
        "      <th>educ</th>\n",
        "      <th>black</th>\n",
        "      <th>hisp</th>\n",
        "      <th>married</th>\n",
        "      <th>nodegr</th>\n",
        "      <th>re74</th>\n",
        "      <th>re75</th>\n",
        "      <th>y</th>\n",
        "      <th>u74</th>\n",
        "      <th>u75</th>\n",
        "      <th>z</th>\n",
        "      <th>ps</th>\n",
        "    </tr>\n",
        "  </thead>\n",
        "  <tbody>\n",
        "    <tr>\n",
        "      <th>0</th>\n",
        "      <td> 37</td>\n",
        "      <td> 11</td>\n",
        "      <td> 1</td>\n",
        "      <td> 0</td>\n",
        "      <td> 1</td>\n",
        "      <td> 1</td>\n",
        "      <td> 0</td>\n",
        "      <td> 0</td>\n",
        "      <td> 1.326945</td>\n",
        "      <td> 1</td>\n",
        "      <td> 1</td>\n",
        "      <td> 0</td>\n",
        "      <td> 0.359174</td>\n",
        "    </tr>\n",
        "    <tr>\n",
        "      <th>1</th>\n",
        "      <td> 22</td>\n",
        "      <td>  9</td>\n",
        "      <td> 0</td>\n",
        "      <td> 1</td>\n",
        "      <td> 0</td>\n",
        "      <td> 1</td>\n",
        "      <td> 0</td>\n",
        "      <td> 0</td>\n",
        "      <td>-1.140681</td>\n",
        "      <td> 1</td>\n",
        "      <td> 1</td>\n",
        "      <td> 0</td>\n",
        "      <td> 0.293722</td>\n",
        "    </tr>\n",
        "    <tr>\n",
        "      <th>2</th>\n",
        "      <td> 30</td>\n",
        "      <td> 12</td>\n",
        "      <td> 1</td>\n",
        "      <td> 0</td>\n",
        "      <td> 0</td>\n",
        "      <td> 0</td>\n",
        "      <td> 0</td>\n",
        "      <td> 0</td>\n",
        "      <td>-4.288357</td>\n",
        "      <td> 1</td>\n",
        "      <td> 1</td>\n",
        "      <td> 0</td>\n",
        "      <td> 0.402672</td>\n",
        "    </tr>\n",
        "    <tr>\n",
        "      <th>3</th>\n",
        "      <td> 27</td>\n",
        "      <td> 11</td>\n",
        "      <td> 1</td>\n",
        "      <td> 0</td>\n",
        "      <td> 0</td>\n",
        "      <td> 1</td>\n",
        "      <td> 0</td>\n",
        "      <td> 0</td>\n",
        "      <td> 1.281694</td>\n",
        "      <td> 1</td>\n",
        "      <td> 1</td>\n",
        "      <td> 0</td>\n",
        "      <td> 0.324208</td>\n",
        "    </tr>\n",
        "    <tr>\n",
        "      <th>4</th>\n",
        "      <td> 33</td>\n",
        "      <td>  8</td>\n",
        "      <td> 1</td>\n",
        "      <td> 0</td>\n",
        "      <td> 0</td>\n",
        "      <td> 1</td>\n",
        "      <td> 0</td>\n",
        "      <td> 0</td>\n",
        "      <td>-1.222976</td>\n",
        "      <td> 1</td>\n",
        "      <td> 1</td>\n",
        "      <td> 0</td>\n",
        "      <td> 0.393996</td>\n",
        "    </tr>\n",
        "  </tbody>\n",
        "</table>\n",
        "</div>"
       ],
       "metadata": {},
       "output_type": "pyout",
       "prompt_number": 6,
       "text": [
        "   age  educ  black  hisp  married  nodegr  re74  re75         y  u74  u75  z  \\\n",
        "0   37    11      1     0        1       1     0     0  1.326945    1    1  0   \n",
        "1   22     9      0     1        0       1     0     0 -1.140681    1    1  0   \n",
        "2   30    12      1     0        0       0     0     0 -4.288357    1    1  0   \n",
        "3   27    11      1     0        0       1     0     0  1.281694    1    1  0   \n",
        "4   33     8      1     0        0       1     0     0 -1.222976    1    1  0   \n",
        "\n",
        "         ps  \n",
        "0  0.359174  \n",
        "1  0.293722  \n",
        "2  0.402672  \n",
        "3  0.324208  \n",
        "4  0.393996  "
       ]
      }
     ],
     "prompt_number": 6
    },
    {
     "cell_type": "code",
     "collapsed": false,
     "input": [
      "z = df['z']\n",
      "del df['z']\n",
      "del df['y']\n",
      "del df['ps']\n",
      "lalonde = { 'N': len(df),\n",
      "            'P': len(df.columns),\n",
      "            'y': z,\n",
      "            'x': df,\n",
      "            }"
     ],
     "language": "python",
     "metadata": {},
     "outputs": [],
     "prompt_number": 7
    },
    {
     "cell_type": "code",
     "collapsed": false,
     "input": [
      "# Stan model code\n",
      "logistic_regression = \"\"\"\n",
      "data {\n",
      "  int<lower=0> N; # number of data points\n",
      "  int<lower=0> P; # number of predictors (including intercept)\n",
      "  int<lower=0,upper=1> y[N]; # binary outcome\n",
      "  matrix[N,P] x; # predictors (including intercept)\n",
      "}\n",
      "parameters {\n",
      "  real beta0;\n",
      "  vector[P] beta;\n",
      "}\n",
      "model {\n",
      "  beta0 ~ normal(0,10);\n",
      "  beta ~ normal(0,10);\n",
      "  y ~ bernoulli_logit(beta0 + x * beta);\n",
      "}\n",
      "\"\"\""
     ],
     "language": "python",
     "metadata": {},
     "outputs": [],
     "prompt_number": 4
    },
    {
     "cell_type": "code",
     "collapsed": false,
     "input": [
      "fit = pystan.stan(model_code=logistic_regression, data=lalonde, iter=100, chains=2)\n"
     ],
     "language": "python",
     "metadata": {},
     "outputs": [
      {
       "output_type": "stream",
       "stream": "stderr",
       "text": [
        "//anaconda/lib/python2.7/multiprocessing/queues.py:392: UserWarning: Pickling fit objects is an experimental feature!\n",
        "The relevant StanModel instance must be pickled along with this fit object.\n",
        "When unpickling the StanModel must be unpickled first.\n",
        "  return send(obj)\n",
        "//anaconda/lib/python2.7/multiprocessing/queues.py:392: UserWarning: Pickling fit objects is an experimental feature!\n",
        "The relevant StanModel instance must be pickled along with this fit object.\n",
        "When unpickling the StanModel must be unpickled first.\n",
        "  return send(obj)\n"
       ]
      }
     ],
     "prompt_number": 5
    },
    {
     "cell_type": "code",
     "collapsed": false,
     "input": [
      "print fit"
     ],
     "language": "python",
     "metadata": {},
     "outputs": [
      {
       "output_type": "stream",
       "stream": "stdout",
       "text": [
        "Inference for Stan model: anon_model_aab54a27389d86ce3f3b6e2c85c08d31.\n",
        "2 chains, each with iter=10; warmup=5; thin=1; \n",
        "post-warmup draws per chain=5, total post-warmup draws=10.\n",
        "\n",
        "          mean se_mean     sd   2.5%    25%    50%    75%  97.5%  n_eff   Rhat\n",
        "beta0    -1.37    0.16   0.52  -1.86  -1.86  -1.37  -0.88  -0.88   10.0    nan\n",
        "beta[0]   0.33     0.2   0.64  -0.28  -0.28   0.33   0.93   0.93   10.0    nan\n",
        "beta[1]  -1.43    0.04   0.14  -1.56  -1.56  -1.43   -1.3   -1.3   10.0    nan\n",
        "beta[2]   0.52     0.1   0.31   0.23   0.23   0.52   0.82   0.82   10.0    nan\n",
        "beta[3]  -0.82    0.13    0.4  -1.19  -1.19  -0.82  -0.44  -0.44   10.0    nan\n",
        "beta[4]  -1.43    0.06    0.2  -1.62  -1.62  -1.43  -1.24  -1.24   10.0    nan\n",
        "beta[5]  -0.82    0.38    1.2  -1.97  -1.97  -0.82   0.32   0.32   10.0    nan\n",
        "beta[6]  -0.39     0.3   0.96   -1.3   -1.3  -0.39   0.52   0.52   10.0    nan\n",
        "beta[7]  -0.23    0.19    0.6   -0.8   -0.8  -0.23   0.34   0.34   10.0    nan\n",
        "beta[8]  -0.75    0.25   0.78  -1.49  -1.49  -0.75-6.5e-3-6.5e-3   10.0    nan\n",
        "beta[9]   0.45    0.16   0.51  -0.04  -0.04   0.45   0.93   0.93   10.0    nan\n",
        "lp__    -3.0e5   3.1e4  9.9e4 -4.0e5 -4.0e5 -3.0e5 -2.1e5 -2.1e5   10.0    nan\n",
        "\n",
        "Samples were drawn using NUTS(diag_e) at Tue Nov  1 14:47:08 2016.\n",
        "For each parameter, n_eff is a crude measure of effective sample size,\n",
        "and Rhat is the potential scale reduction factor on split chains (at \n",
        "convergence, Rhat=1).\n"
       ]
      }
     ],
     "prompt_number": 6
    },
    {
     "cell_type": "code",
     "collapsed": false,
     "input": [
      "beta0 = fit.extract(permuted=True)['beta0']\n",
      "fit.plot()\n",
      "plt.show()\n"
     ],
     "language": "python",
     "metadata": {},
     "outputs": [
      {
       "metadata": {},
       "output_type": "display_data",
       "png": "[encoded data removed]",
       "text": [
        "<matplotlib.figure.Figure at 0x1138a15d0>"
       ]
      }
     ],
     "prompt_number": 21
    },
    {
     "cell_type": "code",
     "collapsed": false,
     "input": [
      "# Logistic Regression\n",
      "model = LogisticRegression()\n",
      "model = model.fit(df, z)\n",
      "print model\n",
      "pd.DataFrame(zip(df.columns, np.transpose(model.coef_)))"
     ],
     "language": "python",
     "metadata": {},
     "outputs": [
      {
       "output_type": "stream",
       "stream": "stdout",
       "text": [
        "LogisticRegression(C=1.0, class_weight=None, dual=False, fit_intercept=True,\n",
        "          intercept_scaling=1, penalty='l2', random_state=None, tol=0.0001)\n"
       ]
      },
      {
       "html": [
        "<div style=\"max-height:1000px;max-width:1500px;overflow:auto;\">\n",
        "<table border=\"1\" class=\"dataframe\">\n",
        "  <thead>\n",
        "    <tr style=\"text-align: right;\">\n",
        "      <th></th>\n",
        "      <th>0</th>\n",
        "      <th>1</th>\n",
        "    </tr>\n",
        "  </thead>\n",
        "  <tbody>\n",
        "    <tr>\n",
        "      <th>0</th>\n",
        "      <td>     age</td>\n",
        "      <td>   [0.00589055492373]</td>\n",
        "    </tr>\n",
        "    <tr>\n",
        "      <th>1</th>\n",
        "      <td>    educ</td>\n",
        "      <td>   [-0.0594163281162]</td>\n",
        "    </tr>\n",
        "    <tr>\n",
        "      <th>2</th>\n",
        "      <td>   black</td>\n",
        "      <td>    [-0.169033594009]</td>\n",
        "    </tr>\n",
        "    <tr>\n",
        "      <th>3</th>\n",
        "      <td>    hisp</td>\n",
        "      <td>     [-0.25467822716]</td>\n",
        "    </tr>\n",
        "    <tr>\n",
        "      <th>4</th>\n",
        "      <td> married</td>\n",
        "      <td>    [0.0256135418245]</td>\n",
        "    </tr>\n",
        "    <tr>\n",
        "      <th>5</th>\n",
        "      <td>  nodegr</td>\n",
        "      <td>     [0.122683009912]</td>\n",
        "    </tr>\n",
        "    <tr>\n",
        "      <th>6</th>\n",
        "      <td>    re74</td>\n",
        "      <td>  [3.35944406087e-06]</td>\n",
        "    </tr>\n",
        "    <tr>\n",
        "      <th>7</th>\n",
        "      <td>    re75</td>\n",
        "      <td> [-1.83042892861e-05]</td>\n",
        "    </tr>\n",
        "    <tr>\n",
        "      <th>8</th>\n",
        "      <td>     u74</td>\n",
        "      <td>     [0.465464520357]</td>\n",
        "    </tr>\n",
        "    <tr>\n",
        "      <th>9</th>\n",
        "      <td>     u75</td>\n",
        "      <td>    [-0.732901313602]</td>\n",
        "    </tr>\n",
        "  </tbody>\n",
        "</table>\n",
        "</div>"
       ],
       "metadata": {},
       "output_type": "pyout",
       "prompt_number": 26,
       "text": [
        "         0                     1\n",
        "0      age    [0.00589055492373]\n",
        "1     educ    [-0.0594163281162]\n",
        "2    black     [-0.169033594009]\n",
        "3     hisp      [-0.25467822716]\n",
        "4  married     [0.0256135418245]\n",
        "5   nodegr      [0.122683009912]\n",
        "6     re74   [3.35944406087e-06]\n",
        "7     re75  [-1.83042892861e-05]\n",
        "8      u74      [0.465464520357]\n",
        "9      u75     [-0.732901313602]"
       ]
      }
     ],
     "prompt_number": 26
    },
    {
     "cell_type": "code",
     "collapsed": false,
     "input": [
      "logit = sm.Logit(z, df)\n",
      "\n",
      "# fit the model\n",
      "result = logit.fit()\n",
      "print result.summary()"
     ],
     "language": "python",
     "metadata": {},
     "outputs": [
      {
       "output_type": "stream",
       "stream": "stdout",
       "text": [
        "Optimization terminated successfully.\n",
        "         Current function value: 0.633142\n",
        "         Iterations 5\n",
        "                           Logit Regression Results                           \n",
        "==============================================================================\n",
        "Dep. Variable:                      z   No. Observations:                  445\n",
        "Model:                          Logit   Df Residuals:                      435\n",
        "Method:                           MLE   Df Model:                            9\n",
        "Date:                Tue, 01 Nov 2016   Pseudo R-squ.:                 0.02469\n",
        "Time:                        15:40:49   Log-Likelihood:                -281.75\n",
        "converged:                       True   LL-Null:                       -288.88\n",
        "                                        LLR p-value:                    0.1132\n",
        "==============================================================================\n",
        "                 coef    std err          z      P>|z|      [95.0% Conf. Int.]\n",
        "------------------------------------------------------------------------------\n",
        "age            0.0060      0.014      0.440      0.660        -0.021     0.033\n",
        "educ          -0.0563      0.038     -1.490      0.136        -0.130     0.018\n",
        "black         -0.3824      0.359     -1.064      0.287        -1.087     0.322\n",
        "hisp          -0.5191      0.484     -1.073      0.283        -1.467     0.429\n",
        "married        0.0393      0.286      0.137      0.891        -0.521     0.600\n",
        "nodegr         0.1815      0.250      0.727      0.467        -0.308     0.671\n",
        "re74        1.764e-05   2.77e-05      0.638      0.524     -3.66e-05  7.18e-05\n",
        "re75       -2.502e-05   4.89e-05     -0.511      0.609        -0.000  7.09e-05\n",
        "u74            0.9023      0.384      2.352      0.019         0.150     1.654\n",
        "u75           -1.0059      0.330     -3.048      0.002        -1.653    -0.359\n",
        "=============================================================================="
       ]
      },
      {
       "output_type": "stream",
       "stream": "stdout",
       "text": [
        "\n"
       ]
      }
     ],
     "prompt_number": 9
    },
    {
     "cell_type": "code",
     "collapsed": false,
     "input": [
      "print fit"
     ],
     "language": "python",
     "metadata": {},
     "outputs": [
      {
       "ename": "NameError",
       "evalue": "name 'fit' is not defined",
       "output_type": "pyerr",
       "traceback": [
        "\u001b[0;31m---------------------------------------------------------------------------\u001b[0m\n\u001b[0;31mNameError\u001b[0m                                 Traceback (most recent call last)",
        "\u001b[0;32m<ipython-input-10-60318b13f8b2>\u001b[0m in \u001b[0;36m<module>\u001b[0;34m()\u001b[0m\n\u001b[0;32m----> 1\u001b[0;31m \u001b[0;32mprint\u001b[0m \u001b[0mfit\u001b[0m\u001b[0;34m\u001b[0m\u001b[0m\n\u001b[0m",
        "\u001b[0;31mNameError\u001b[0m: name 'fit' is not defined"
       ]
      }
     ],
     "prompt_number": 10
    },
    {
     "cell_type": "code",
     "collapsed": false,
     "input": [],
     "language": "python",
     "metadata": {},
     "outputs": []
    }
   ],
   "metadata": {}
  }
 ]
}